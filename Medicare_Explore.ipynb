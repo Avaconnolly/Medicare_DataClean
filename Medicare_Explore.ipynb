{
 "cells": [
  {
   "cell_type": "code",
   "execution_count": 6,
   "metadata": {},
   "outputs": [],
   "source": [
    "# Load, summarize & explore the dataset\n",
    "import pandas as pd\n",
    "from pandas import read_csv \n",
    "import numpy as np\n",
    "import matplotlib\n",
    "import matplotlib.pyplot as plt\n",
    "from matplotlib.pyplot import figure \n",
    "import matplotlib.mlab as mlab\n",
    "\n",
    "plt.style.use('ggplot')\n",
    "%matplotlib inline\n",
    "matplotlib.rcParams['figure.figsize'] = (12,8)\n",
    "pd.options.mode.chained_assignment = None "
   ]
  },
  {
   "cell_type": "code",
   "execution_count": 2,
   "metadata": {},
   "outputs": [],
   "source": [
    "# load the dataset\n",
    "d = read_csv('medicare-part-d-opioid-prescriber-summary-file-2016-1.csv')"
   ]
  },
  {
   "cell_type": "code",
   "execution_count": 3,
   "metadata": {},
   "outputs": [
    {
     "name": "stdout",
     "output_type": "stream",
     "text": [
      "(242335, 11)\n"
     ]
    }
   ],
   "source": [
    "print(d.shape)"
   ]
  },
  {
   "cell_type": "code",
   "execution_count": 4,
   "metadata": {},
   "outputs": [
    {
     "name": "stdout",
     "output_type": "stream",
     "text": [
      "NPI                                           int64\n",
      "NPPES Provider Last Name                     object\n",
      "NPPES Provider First Name                    object\n",
      "NPPES Provider ZIP Code                     float64\n",
      "NPPES Provider State                         object\n",
      "Specialty Description                        object\n",
      "Total Claim Count                           float64\n",
      "Opioid Claim Count                          float64\n",
      "Opioid Prescribing Rate                      object\n",
      "Extended-Release Opioid Claims              float64\n",
      "Extended-Release Opioid Prescribing Rate     object\n",
      "dtype: object\n"
     ]
    }
   ],
   "source": [
    "print(d.dtypes)"
   ]
  },
  {
   "cell_type": "code",
   "execution_count": 5,
   "metadata": {},
   "outputs": [],
   "source": [
    "# line 5 tells me this dataset has 242,335 rows and 11 columns\n",
    "# line 18 tells me there are 5 numeric columns & 6 non-numeric columns"
   ]
  },
  {
   "cell_type": "code",
   "execution_count": 7,
   "metadata": {},
   "outputs": [
    {
     "name": "stdout",
     "output_type": "stream",
     "text": [
      "['NPI' 'NPPES Provider ZIP Code' 'Total Claim Count' 'Opioid Claim Count'\n",
      " 'Extended-Release Opioid Claims']\n"
     ]
    }
   ],
   "source": [
    "# select the numeric data columns\n",
    "d_numeric = d.select_dtypes(include=[np.number])\n",
    "numeric_cols = d_numeric.columns.values\n",
    "print(numeric_cols)"
   ]
  },
  {
   "cell_type": "code",
   "execution_count": 8,
   "metadata": {},
   "outputs": [
    {
     "name": "stdout",
     "output_type": "stream",
     "text": [
      "['NPPES Provider Last Name' 'NPPES Provider First Name'\n",
      " 'NPPES Provider State' 'Specialty Description' 'Opioid Prescribing Rate'\n",
      " 'Extended-Release Opioid Prescribing Rate']\n"
     ]
    }
   ],
   "source": [
    "# select the non-numeric data columns\n",
    "d_non_numeric = d.select_dtypes(exclude=[np.number])\n",
    "non_numeric_cols = d_non_numeric.columns.values\n",
    "print(non_numeric_cols)"
   ]
  },
  {
   "cell_type": "code",
   "execution_count": null,
   "metadata": {},
   "outputs": [],
   "source": [
    "# we know there are 5 numeric data columns & 6 non-numeric data columns"
   ]
  }
 ],
 "metadata": {
  "kernelspec": {
   "display_name": "Python 3",
   "language": "python",
   "name": "python3"
  },
  "language_info": {
   "codemirror_mode": {
    "name": "ipython",
    "version": 3
   },
   "file_extension": ".py",
   "mimetype": "text/x-python",
   "name": "python",
   "nbconvert_exporter": "python",
   "pygments_lexer": "ipython3",
   "version": "3.7.6"
  }
 },
 "nbformat": 4,
 "nbformat_minor": 4
}
